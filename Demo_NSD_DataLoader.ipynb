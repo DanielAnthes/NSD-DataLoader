{
 "cells": [
  {
   "cell_type": "markdown",
   "metadata": {},
   "source": [
    "# NSD Data Loader\n",
    "\n",
    "This script illustrates usage of the NSD Data Loader Class.\n",
    "For this class to work as intended nsd_access should be installed: https://github.com/tknapen/nsd_access\n",
    "Both nsd_access and the data loader expect nsd data to be available in the original folder structure."
   ]
  },
  {
   "cell_type": "code",
   "execution_count": 1,
   "metadata": {},
   "outputs": [],
   "source": [
    "from NSD_DataLoader import NSDLoader\n",
    "import os.path as op "
   ]
  },
  {
   "cell_type": "code",
   "execution_count": 2,
   "metadata": {},
   "outputs": [],
   "source": [
    "nsdfolder = op.join(\"..\", \"nsd\") # adjust this to point to local copy of nsd dataset\n",
    "\n",
    "nsdl = NSDLoader(nsdfolder)"
   ]
  },
  {
   "cell_type": "markdown",
   "metadata": {},
   "source": [
    "Print a summary of the locally available data. This function will only show participants for which local data is available. It does so by checking for which participants beta data folders exist in the folder structure. It will therefore not catch whether data for all sessions has been downloaded. The number of available trials is read in from the behaviour data for each participant. The function returns a dictionary with each available subject as key and as value another dictionary of the form (Session: #Trials)"
   ]
  },
  {
   "cell_type": "code",
   "execution_count": 3,
   "metadata": {
    "scrolled": true
   },
   "outputs": [
    {
     "name": "stdout",
     "output_type": "stream",
     "text": [
      "subj02\n",
      "40 sessions available\n",
      "30000 trials available\n",
      "subj01\n",
      "40 sessions available\n",
      "30000 trials available\n"
     ]
    },
    {
     "data": {
      "text/plain": [
       "{'subj02': {1: 750,\n",
       "  2: 750,\n",
       "  3: 750,\n",
       "  4: 750,\n",
       "  5: 750,\n",
       "  6: 750,\n",
       "  7: 750,\n",
       "  8: 750,\n",
       "  9: 750,\n",
       "  10: 750,\n",
       "  11: 750,\n",
       "  12: 750,\n",
       "  13: 750,\n",
       "  14: 750,\n",
       "  15: 750,\n",
       "  16: 750,\n",
       "  17: 750,\n",
       "  18: 750,\n",
       "  19: 750,\n",
       "  20: 750,\n",
       "  21: 750,\n",
       "  22: 750,\n",
       "  23: 750,\n",
       "  24: 750,\n",
       "  25: 750,\n",
       "  26: 750,\n",
       "  27: 750,\n",
       "  28: 750,\n",
       "  29: 750,\n",
       "  30: 750,\n",
       "  31: 750,\n",
       "  32: 750,\n",
       "  33: 750,\n",
       "  34: 750,\n",
       "  35: 750,\n",
       "  36: 750,\n",
       "  37: 750,\n",
       "  38: 750,\n",
       "  39: 750,\n",
       "  40: 750},\n",
       " 'subj01': {1: 750,\n",
       "  2: 750,\n",
       "  3: 750,\n",
       "  4: 750,\n",
       "  5: 750,\n",
       "  6: 750,\n",
       "  7: 750,\n",
       "  8: 750,\n",
       "  9: 750,\n",
       "  10: 750,\n",
       "  11: 750,\n",
       "  12: 750,\n",
       "  13: 750,\n",
       "  14: 750,\n",
       "  15: 750,\n",
       "  16: 750,\n",
       "  17: 750,\n",
       "  18: 750,\n",
       "  19: 750,\n",
       "  20: 750,\n",
       "  21: 750,\n",
       "  22: 750,\n",
       "  23: 750,\n",
       "  24: 750,\n",
       "  25: 750,\n",
       "  26: 750,\n",
       "  27: 750,\n",
       "  28: 750,\n",
       "  29: 750,\n",
       "  30: 750,\n",
       "  31: 750,\n",
       "  32: 750,\n",
       "  33: 750,\n",
       "  34: 750,\n",
       "  35: 750,\n",
       "  36: 750,\n",
       "  37: 750,\n",
       "  38: 750,\n",
       "  39: 750,\n",
       "  40: 750}}"
      ]
     },
     "execution_count": 3,
     "metadata": {},
     "output_type": "execute_result"
    }
   ],
   "source": [
    "nsdl.get_data_info(verbose=True)"
   ]
  },
  {
   "cell_type": "markdown",
   "metadata": {},
   "source": [
    "Before loading the data, split it into training and test sets. The split is computed so that stimuli should only occur either in the training or the test set. (All repetitions of the same stimulus end up in the same set). The function accepts the approximate fraction of data to be held out for testing as test_fraction. Optionally only include stimuli that were shown to all participants"
   ]
  },
  {
   "cell_type": "code",
   "execution_count": 4,
   "metadata": {},
   "outputs": [
    {
     "name": "stdout",
     "output_type": "stream",
     "text": [
      "(800, 2)\n",
      "(200, 2)\n",
      "       cocoId  ID73K\n",
      "31837   95337  31838\n",
      "18543  571499  18544\n",
      "37801  380989  37802\n",
      "56314  468771  56315\n",
      "21108  317061  21109\n",
      "...       ...    ...\n",
      "10610   23392  10611\n",
      "52070  291280  52071\n",
      "36576  114077  36577\n",
      "54078  189388  54079\n",
      "51788  435902  51789\n",
      "\n",
      "[200 rows x 2 columns]\n"
     ]
    }
   ],
   "source": [
    "train_stims, test_stims = nsdl.create_image_split(test_fraction=.2, shared=True)\n",
    "print(train_stims.shape)\n",
    "print(test_stims.shape)\n",
    "print(test_stims)   # pandas dataframe containing the stimulus ids \n",
    "                    # (cocoID to retrieve captions, 73KIDs used to get images and betas)\n"
   ]
  },
  {
   "cell_type": "markdown",
   "metadata": {},
   "source": [
    "Next, retrieve all trials in which the selected stimuli were shown, for all subjects specified."
   ]
  },
  {
   "cell_type": "code",
   "execution_count": 5,
   "metadata": {},
   "outputs": [
    {
     "data": {
      "text/html": [
       "<div>\n",
       "<style scoped>\n",
       "    .dataframe tbody tr th:only-of-type {\n",
       "        vertical-align: middle;\n",
       "    }\n",
       "\n",
       "    .dataframe tbody tr th {\n",
       "        vertical-align: top;\n",
       "    }\n",
       "\n",
       "    .dataframe thead th {\n",
       "        text-align: right;\n",
       "    }\n",
       "</style>\n",
       "<table border=\"1\" class=\"dataframe\">\n",
       "  <thead>\n",
       "    <tr style=\"text-align: right;\">\n",
       "      <th></th>\n",
       "      <th>SUBJECT</th>\n",
       "      <th>SESSION</th>\n",
       "      <th>RUN</th>\n",
       "      <th>TRIAL</th>\n",
       "      <th>73KID</th>\n",
       "    </tr>\n",
       "  </thead>\n",
       "  <tbody>\n",
       "    <tr>\n",
       "      <th>0</th>\n",
       "      <td>1</td>\n",
       "      <td>1</td>\n",
       "      <td>1</td>\n",
       "      <td>1</td>\n",
       "      <td>46003</td>\n",
       "    </tr>\n",
       "    <tr>\n",
       "      <th>28</th>\n",
       "      <td>1</td>\n",
       "      <td>1</td>\n",
       "      <td>1</td>\n",
       "      <td>29</td>\n",
       "      <td>48618</td>\n",
       "    </tr>\n",
       "    <tr>\n",
       "      <th>44</th>\n",
       "      <td>1</td>\n",
       "      <td>1</td>\n",
       "      <td>1</td>\n",
       "      <td>45</td>\n",
       "      <td>32626</td>\n",
       "    </tr>\n",
       "    <tr>\n",
       "      <th>56</th>\n",
       "      <td>1</td>\n",
       "      <td>1</td>\n",
       "      <td>1</td>\n",
       "      <td>57</td>\n",
       "      <td>4931</td>\n",
       "    </tr>\n",
       "    <tr>\n",
       "      <th>90</th>\n",
       "      <td>1</td>\n",
       "      <td>1</td>\n",
       "      <td>2</td>\n",
       "      <td>28</td>\n",
       "      <td>32626</td>\n",
       "    </tr>\n",
       "    <tr>\n",
       "      <th>...</th>\n",
       "      <td>...</td>\n",
       "      <td>...</td>\n",
       "      <td>...</td>\n",
       "      <td>...</td>\n",
       "      <td>...</td>\n",
       "    </tr>\n",
       "    <tr>\n",
       "      <th>29919</th>\n",
       "      <td>2</td>\n",
       "      <td>40</td>\n",
       "      <td>11</td>\n",
       "      <td>45</td>\n",
       "      <td>12496</td>\n",
       "    </tr>\n",
       "    <tr>\n",
       "      <th>29929</th>\n",
       "      <td>2</td>\n",
       "      <td>40</td>\n",
       "      <td>11</td>\n",
       "      <td>55</td>\n",
       "      <td>52217</td>\n",
       "    </tr>\n",
       "    <tr>\n",
       "      <th>29943</th>\n",
       "      <td>2</td>\n",
       "      <td>40</td>\n",
       "      <td>12</td>\n",
       "      <td>6</td>\n",
       "      <td>30374</td>\n",
       "    </tr>\n",
       "    <tr>\n",
       "      <th>29953</th>\n",
       "      <td>2</td>\n",
       "      <td>40</td>\n",
       "      <td>12</td>\n",
       "      <td>16</td>\n",
       "      <td>12496</td>\n",
       "    </tr>\n",
       "    <tr>\n",
       "      <th>29958</th>\n",
       "      <td>2</td>\n",
       "      <td>40</td>\n",
       "      <td>12</td>\n",
       "      <td>21</td>\n",
       "      <td>41779</td>\n",
       "    </tr>\n",
       "  </tbody>\n",
       "</table>\n",
       "<p>4800 rows × 5 columns</p>\n",
       "</div>"
      ],
      "text/plain": [
       "       SUBJECT  SESSION  RUN  TRIAL  73KID\n",
       "0            1        1    1      1  46003\n",
       "28           1        1    1     29  48618\n",
       "44           1        1    1     45  32626\n",
       "56           1        1    1     57   4931\n",
       "90           1        1    2     28  32626\n",
       "...        ...      ...  ...    ...    ...\n",
       "29919        2       40   11     45  12496\n",
       "29929        2       40   11     55  52217\n",
       "29943        2       40   12      6  30374\n",
       "29953        2       40   12     16  12496\n",
       "29958        2       40   12     21  41779\n",
       "\n",
       "[4800 rows x 5 columns]"
      ]
     },
     "execution_count": 5,
     "metadata": {},
     "output_type": "execute_result"
    }
   ],
   "source": [
    "trialdata_train = nsdl.trials_for_stim(['subj01', 'subj02'], train_stims)\n",
    "trialdata_test = nsdl.trials_for_stim(['subj01', 'subj02'], test_stims)\n",
    "trialdata_train # for subjects that completed all 30000 trials \n",
    "                # each stimulus was shown three times, for two subjects this amounts to\n",
    "                # 800 * 3 * 2 = 4800 trials in the training set with shared images"
   ]
  },
  {
   "cell_type": "markdown",
   "metadata": {},
   "source": [
    "Finally, compute the session index and load the data. Images can be excluded to save memory.\n",
    "The session index is needed to convert from the nsd indexing scheme:\n",
    "\n",
    "    subject, session, run, trial\n",
    "\n",
    "To the nsd_access indexing scheme:\n",
    "\n",
    "    subject, session, trial\n",
    "    \n",
    "(I only have the first two sessions for subjects 1+2 available locally to save space, so I filter the data. This should not be necessary with the full dataset available.)"
   ]
  },
  {
   "cell_type": "code",
   "execution_count": 6,
   "metadata": {
    "scrolled": true
   },
   "outputs": [
    {
     "name": "stdout",
     "output_type": "stream",
     "text": [
      "SESSION 1\n",
      "loading annotations into memory...\n",
      "Done (t=1.30s)\n",
      "creating index...\n",
      "index created!\n",
      "loading annotations into memory...\n",
      "Done (t=0.22s)\n",
      "creating index...\n",
      "index created!\n",
      "SESSION 2\n",
      "loading annotations into memory...\n",
      "Done (t=1.19s)\n",
      "creating index...\n",
      "index created!\n",
      "loading annotations into memory...\n",
      "Done (t=0.06s)\n",
      "creating index...\n",
      "index created!\n",
      "SESSION 1\n",
      "loading annotations into memory...\n",
      "Done (t=1.17s)\n",
      "creating index...\n",
      "index created!\n",
      "loading annotations into memory...\n",
      "Done (t=0.06s)\n",
      "creating index...\n",
      "index created!\n",
      "SESSION 2\n",
      "loading annotations into memory...\n",
      "Done (t=1.15s)\n",
      "creating index...\n",
      "index created!\n",
      "loading annotations into memory...\n",
      "Done (t=0.06s)\n",
      "creating index...\n",
      "index created!\n",
      "SESSION 1\n",
      "loading annotations into memory...\n",
      "Done (t=1.18s)\n",
      "creating index...\n",
      "index created!\n",
      "loading annotations into memory...\n",
      "Done (t=0.22s)\n",
      "creating index...\n",
      "index created!\n",
      "SESSION 2\n",
      "loading annotations into memory...\n",
      "Done (t=1.27s)\n",
      "creating index...\n",
      "index created!\n",
      "loading annotations into memory...\n",
      "Done (t=0.07s)\n",
      "creating index...\n",
      "index created!\n",
      "SESSION 1\n",
      "loading annotations into memory...\n",
      "Done (t=1.26s)\n",
      "creating index...\n",
      "index created!\n",
      "loading annotations into memory...\n",
      "Done (t=0.07s)\n",
      "creating index...\n",
      "index created!\n",
      "SESSION 2\n",
      "loading annotations into memory...\n",
      "Done (t=1.19s)\n",
      "creating index...\n",
      "index created!\n",
      "loading annotations into memory...\n",
      "Done (t=0.22s)\n",
      "creating index...\n",
      "index created!\n"
     ]
    }
   ],
   "source": [
    "train_mask = (trialdata_train[\"SUBJECT\"].isin([1,2])) & (trialdata_train[\"SESSION\"].isin([1,2]))\n",
    "test_mask = (trialdata_test[\"SUBJECT\"].isin([1,2])) & (trialdata_test[\"SESSION\"].isin([1,2]))\n",
    "trialdata_train = nsdl.calculate_session_index(trialdata_train[train_mask])\n",
    "trialdata_test = nsdl.calculate_session_index(trialdata_test[test_mask])\n",
    "\n",
    "train_betas, train_captions, train_imgs = nsdl.load_data(trialdata_train)\n",
    "test_betas, test_captions, test_imgs = nsdl.load_data(trialdata_test)"
   ]
  },
  {
   "cell_type": "code",
   "execution_count": 7,
   "metadata": {},
   "outputs": [
    {
     "name": "stdout",
     "output_type": "stream",
     "text": [
      "(327684, 224)\n",
      "(327684, 60)\n",
      "224\n",
      "60\n",
      "(224, 425, 425, 3)\n",
      "(60, 425, 425, 3)\n",
      "['A man and his shadow on a red tennis court while the man swings a tennis racket.', 'A tennis player striking the ball with his shadow underneath him.', 'A person is taken in this very picture.\\n', \"A tennis player's feet lift off the ground as he swings the racket.\", 'A man is returning the ball while playing tennis.']\n",
      "['Airplanes are parked on the tarmac of an airport. ', 'planes and cars sitting on an airplane tarmac', 'The tarmac is covered with rows of planes. ', 'Planes parked at the airport outside the terminal.', 'A host of airplanes parked in a waiting area of an airport.']\n",
      "['A red partitioned plate with various types of food.', 'A tray with food on a table ', 'A tray of food with meat slices over broccoli as well as other vegetables and fruit.', 'A compartmentalized tray holds a variety of food.', 'Red tray with rice meat and vegetables on it. ']\n"
     ]
    },
    {
     "data": {
      "image/png": "[encoded data removed]",
      "text/plain": [
       "<Figure size 432x288 with 3 Axes>"
      ]
     },
     "metadata": {
      "needs_background": "light"
     },
     "output_type": "display_data"
    }
   ],
   "source": [
    "import matplotlib.pyplot as plt\n",
    "\n",
    "print(train_betas.shape)\n",
    "print(test_betas.shape) # dimensions of betas depend on the format selected, fsaverage is loaded here\n",
    "\n",
    "print(len(train_captions)) # list of captions for each trial\n",
    "print(len(test_captions))\n",
    "\n",
    "print(train_imgs.shape)\n",
    "print(test_imgs.shape)\n",
    "\n",
    "trials = [42,43,44]\n",
    "\n",
    "plt.figure()\n",
    "\n",
    "for i in range(len(trials)):\n",
    "    plt.subplot(131 + i)\n",
    "    plt.imshow(train_imgs[i])\n",
    "    print(train_captions[i])\n",
    "plt.show()"
   ]
  },
  {
   "cell_type": "markdown",
   "metadata": {},
   "source": [
    "Data can also be loaded in batches to save memory. This returns an iterator that loads one batch of data at a time:"
   ]
  },
  {
   "cell_type": "code",
   "execution_count": 8,
   "metadata": {},
   "outputs": [
    {
     "name": "stdout",
     "output_type": "stream",
     "text": [
      "SESSION 1\n",
      "loading annotations into memory...\n",
      "Done (t=1.23s)\n",
      "creating index...\n",
      "index created!\n",
      "loading annotations into memory...\n",
      "Done (t=0.06s)\n",
      "creating index...\n",
      "index created!\n",
      "SESSION 2\n",
      "loading annotations into memory...\n",
      "Done (t=1.17s)\n",
      "creating index...\n",
      "index created!\n",
      "loading annotations into memory...\n",
      "Done (t=0.06s)\n",
      "creating index...\n",
      "index created!\n",
      "betas: (327684, 100)\n",
      "captions: 100\n",
      "images: (100, 425, 425, 3)\n"
     ]
    }
   ],
   "source": [
    "batchdataloader = nsdl.load_batch_data(trialdata_train, batchsize=100, load_imgs=True)\n",
    "b,c,i = batchdataloader.__next__()\n",
    "print(f\"betas: {b.shape}\\ncaptions: {len(c)}\\nimages: {i.shape}\")"
   ]
  },
  {
   "cell_type": "code",
   "execution_count": null,
   "metadata": {},
   "outputs": [],
   "source": []
  }
 ],
 "metadata": {
  "kernelspec": {
   "display_name": "nsd",
   "language": "python",
   "name": "nsd"
  },
  "language_info": {
   "codemirror_mode": {
    "name": "ipython",
    "version": 3
   },
   "file_extension": ".py",
   "mimetype": "text/x-python",
   "name": "python",
   "nbconvert_exporter": "python",
   "pygments_lexer": "ipython3",
   "version": "3.8.5"
  }
 },
 "nbformat": 4,
 "nbformat_minor": 4
}
